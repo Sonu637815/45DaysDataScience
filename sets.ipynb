{
 "cells": [
  {
   "cell_type": "code",
   "execution_count": 1,
   "id": "a75cd1f7",
   "metadata": {},
   "outputs": [],
   "source": [
    "##sets-{}\n",
    "##unordered, unindexed, no duplicates\n"
   ]
  },
  {
   "cell_type": "code",
   "execution_count": 5,
   "id": "3e3b0d44",
   "metadata": {},
   "outputs": [
    {
     "name": "stdout",
     "output_type": "stream",
     "text": [
      "{1, 2, 'hello'}\n",
      "<class 'set'>\n"
     ]
    }
   ],
   "source": [
    "st = {1,2,\"hello\",True,\"hello\"}\n",
    "print(st)\n",
    "print(type(st))"
   ]
  },
  {
   "cell_type": "code",
   "execution_count": 19,
   "id": "9a71ef14",
   "metadata": {},
   "outputs": [
    {
     "data": {
      "text/plain": [
       "set()"
      ]
     },
     "execution_count": 19,
     "metadata": {},
     "output_type": "execute_result"
    }
   ],
   "source": [
    "##st.add(\"python\")\n",
    "##st.update([1,2,3,4,5])\n",
    "##st.remove(\"hello\")\n",
    "##st.pop()\n",
    "st.discard(\"hello\")\n",
    "st"
   ]
  },
  {
   "cell_type": "code",
   "execution_count": null,
   "id": "2e04aa65",
   "metadata": {},
   "outputs": [
    {
     "name": "stdout",
     "output_type": "stream",
     "text": [
      "After add: {1, 2, 3, 6}\n",
      "After update: {1, 2, 3, 6, 7, 8}\n",
      "After remove: {1, 3, 6, 7, 8}\n",
      "After discard: {1, 3, 6, 7, 8}\n",
      "Popped: 1\n",
      "After pop: {3, 6, 7, 8}\n",
      "After clear: set()\n",
      "Copy of bc: {3, 4, 5}\n",
      "{3, 6, 7, 8}\n",
      "{3, 4, 5}\n",
      "Union: {3, 4, 5, 6, 7, 8}\n",
      "Intersection: {3}\n",
      "Difference (ab - bc): {8, 6, 7}\n",
      "Symmetric Difference: {4, 5, 6, 7, 8}\n",
      "Is ab subset of bc? False\n",
      "Is ab superset of bc? False\n",
      "Are ab and bc disjoint? False\n"
     ]
    }
   ],
   "source": [
    "ab = {1, 2, 3}\n",
    "bc = {3, 4, 5}\n",
    "\n",
    "# Add an element\n",
    "ab.add(6)\n",
    "print(\"After add:\", ab)\n",
    "\n",
    "# Update set with multiple elements\n",
    "ab.update([7, 8])\n",
    "print(\"After update:\", ab)\n",
    "\n",
    "# Remove an element (raises error if not found)\n",
    "ab.remove(2)\n",
    "print(\"After remove:\", ab)\n",
    "\n",
    "# Discard an element (no error if not found)\n",
    "ab.discard(10)  # Safe remove\n",
    "print(\"After discard:\", ab)\n",
    "\n",
    "# Pop an element (removes and returns a random item)\n",
    "popped = ab.pop()\n",
    "print(\"Popped:\", popped)\n",
    "print(\"After pop:\", ab)\n",
    "\n",
    "# Clear the set\n",
    "temp = ab.copy()\n",
    "temp.clear()\n",
    "print(\"After clear:\", temp)\n",
    "\n",
    "# Copy the set\n",
    "copy_set = bc.copy()\n",
    "print(\"Copy of bc:\", copy_set)\n",
    "print(ab)\n",
    "print(bc)\n",
    "# Union\n",
    "print(\"Union:\", ab.union(bc))\n",
    "\n",
    "# Intersection\n",
    "print(\"Intersection:\", ab.intersection(bc))\n",
    "\n",
    "# Difference\n",
    "print(\"Difference (ab - bc):\", ab.difference(bc))\n",
    "\n",
    "# Symmetric Difference -  return the element either in set but not both\n",
    "print(\"Symmetric Difference:\", ab.symmetric_difference(bc))\n",
    "\n",
    "# Subset & Superset    superset- check if one set contains all elements of another\n",
    "print(\"Is ab subset of bc?\", ab.issubset(bc))\n",
    "print(\"Is ab superset of bc?\", ab.issuperset(bc))\n",
    "\n",
    "# Is Disjoint - check if two sets have no common elements\n",
    "print(\"Are ab and bc disjoint?\", ab.isdisjoint(bc))"
   ]
  },
  {
   "cell_type": "code",
   "execution_count": 28,
   "id": "53438c72",
   "metadata": {},
   "outputs": [
    {
     "data": {
      "text/plain": [
       "{1, 2, 4, 5}"
      ]
     },
     "execution_count": 28,
     "metadata": {},
     "output_type": "execute_result"
    }
   ],
   "source": [
    "a = {1,2,3}\n",
    "b = {3,4,5}\n",
    "\n",
    "##a.intersection_update(b)\n",
    "##b.difference_update(a)\n",
    "b.symmetric_difference_update(a)\n",
    "b"
   ]
  },
  {
   "cell_type": "code",
   "execution_count": null,
   "id": "4e4e8723",
   "metadata": {},
   "outputs": [],
   "source": []
  }
 ],
 "metadata": {
  "kernelspec": {
   "display_name": "Python 3",
   "language": "python",
   "name": "python3"
  },
  "language_info": {
   "codemirror_mode": {
    "name": "ipython",
    "version": 3
   },
   "file_extension": ".py",
   "mimetype": "text/x-python",
   "name": "python",
   "nbconvert_exporter": "python",
   "pygments_lexer": "ipython3",
   "version": "3.11.4"
  }
 },
 "nbformat": 4,
 "nbformat_minor": 5
}
