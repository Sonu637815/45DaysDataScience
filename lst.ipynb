{
 "cells": [
  {
   "cell_type": "markdown",
   "id": "e2101a54",
   "metadata": {},
   "source": []
  },
  {
   "cell_type": "markdown",
   "id": "f26471a1",
   "metadata": {},
   "source": [
    "print(\"hello world\")"
   ]
  },
  {
   "cell_type": "code",
   "execution_count": 1,
   "id": "b4ac0932",
   "metadata": {},
   "outputs": [
    {
     "name": "stdout",
     "output_type": "stream",
     "text": [
      "hello world\n"
     ]
    }
   ],
   "source": [
    "print(\"hello world\")"
   ]
  },
  {
   "cell_type": "code",
   "execution_count": 3,
   "id": "625da40c",
   "metadata": {},
   "outputs": [
    {
     "name": "stdout",
     "output_type": "stream",
     "text": [
      "[1, 2, 'hello', True, 33.23, 'hello']\n",
      "<class 'list'>\n"
     ]
    }
   ],
   "source": [
    "list = [1,2,\"hello\",True,33.23,\"hello\"]\n",
    "print(list)\n",
    "print(type(list))"
   ]
  },
  {
   "cell_type": "code",
   "execution_count": null,
   "id": "37348c3d",
   "metadata": {},
   "outputs": [
    {
     "name": "stdout",
     "output_type": "stream",
     "text": [
      "['red', 2, 'green', 'blue']\n"
     ]
    }
   ],
   "source": [
    "##indexing\n",
    "lst = [\"red\",\"black\",\"green\",\"blue\"]\n",
    "lst[1] = 2\n",
    "print(lst)"
   ]
  },
  {
   "cell_type": "code",
   "execution_count": 18,
   "id": "554835e5",
   "metadata": {},
   "outputs": [
    {
     "data": {
      "text/plain": [
       "['monu', 'sonu', 'green', 'blue', 'black']"
      ]
     },
     "execution_count": 18,
     "metadata": {},
     "output_type": "execute_result"
    }
   ],
   "source": [
    "##slicing\n",
    "lst = [\"red\",\"green\",\"blue\",\"black\"]\n",
    "lst[0:1] = [\"monu\",\"sonu\"]\n",
    "lst"
   ]
  },
  {
   "cell_type": "code",
   "execution_count": 19,
   "id": "a55b466d",
   "metadata": {},
   "outputs": [
    {
     "data": {
      "text/plain": [
       "[10, 20, [30, 40, [50, 6000], 70], 80]"
      ]
     },
     "execution_count": 19,
     "metadata": {},
     "output_type": "execute_result"
    }
   ],
   "source": [
    "#update 60 to 6000\n",
    "lst = [10,20,[30,40,[50,60],70],80]\n",
    "lst[2][2][1] = 6000\n",
    "lst"
   ]
  },
  {
   "cell_type": "code",
   "execution_count": 44,
   "id": "3486155a",
   "metadata": {},
   "outputs": [
    {
     "data": {
      "text/plain": [
       "['black', 'blue', 'green', 'red']"
      ]
     },
     "execution_count": 44,
     "metadata": {},
     "output_type": "execute_result"
    }
   ],
   "source": [
    "lst = [\"red\",\"green\",\"blue\",\"black\"]\n",
    "# lst.count(\"black\")\n",
    "# lst.index(\"black\")\n",
    "# lst2=lst.copy()\n",
    "# lst2\n",
    "# lst.clear()\n",
    "# del lst\n",
    "# lst.insert(2,\"white\")\n",
    "# lst.append(\"white\")\n",
    "# lst.append([\"white\",\"orange\"])\n",
    "# lst.remove(\"black\")\n",
    "# lst.pop(1)\n",
    "# lst.reverse()\n",
    "# lst.sort(reverse=True)\n",
    "lst[::-1]\n"
   ]
  },
  {
   "cell_type": "code",
   "execution_count": 25,
   "id": "277f1163",
   "metadata": {},
   "outputs": [
    {
     "name": "stdout",
     "output_type": "stream",
     "text": [
      "[10, 20, 30, 40, 20]\n",
      "After append(50): [10, 20, 30, 40, 20, 50]\n",
      "After extend([60, 70]): [10, 20, 30, 40, 20, 50, 60, 70]\n",
      "After insert(2, 99): [10, 20, 99, 30, 40, 20, 50, 60, 70]\n",
      "After remove(20): [10, 99, 30, 40, 20, 50, 60, 70]\n",
      "After two pops: [10, 30, 40, 20, 50, 60]\n",
      "After b.clear(): []\n",
      "Index of 30: 1\n",
      "Count of 20: 1\n",
      "After sort(): [10, 20, 30, 40, 50, 60]\n",
      "After reverse(): [60, 50, 40, 30, 20, 10]\n",
      "Copied list c: [60, 50, 40, 30, 20, 10]\n"
     ]
    }
   ],
   "source": [
    "a = [10, 20, 30, 40, 20]\n",
    "print(a)\n",
    "\n",
    "# 1. append()\n",
    "a.append(50)\n",
    "print(\"After append(50):\", a)\n",
    "\n",
    "# 2. extend()\n",
    "a.extend([60, 70])\n",
    "print(\"After extend([60, 70]):\", a)\n",
    "\n",
    "# 3. insert()\n",
    "a.insert(2, 99)\n",
    "print(\"After insert(2, 99):\", a)\n",
    "\n",
    "# 4. remove()\n",
    "a.remove(20)\n",
    "print(\"After remove(20):\", a)\n",
    "\n",
    "# 5. pop()\n",
    "a.pop()          # removes last item\n",
    "a.pop(1)         # removes index 1\n",
    "print(\"After two pops:\", a)\n",
    "\n",
    "# 6. clear()\n",
    "b = [1, 2, 3]\n",
    "b.clear()\n",
    "print(\"After b.clear():\", b)\n",
    "\n",
    "# 7. index()\n",
    "print(\"Index of 30:\", a.index(30))\n",
    "\n",
    "# 8. count()\n",
    "print(\"Count of 20:\", a.count(20))\n",
    "\n",
    "# 9. sort()\n",
    "a.sort()\n",
    "print(\"After sort():\", a)\n",
    "\n",
    "# 10. reverse()\n",
    "a.reverse()\n",
    "print(\"After reverse():\", a)\n",
    "\n",
    "# 11. copy()\n",
    "c = a.copy()\n",
    "print(\"Copied list c:\", c)"
   ]
  },
  {
   "cell_type": "code",
   "execution_count": null,
   "id": "7862c9c5",
   "metadata": {},
   "outputs": [],
   "source": []
  }
 ],
 "metadata": {
  "kernelspec": {
   "display_name": "Python 3",
   "language": "python",
   "name": "python3"
  },
  "language_info": {
   "codemirror_mode": {
    "name": "ipython",
    "version": 3
   },
   "file_extension": ".py",
   "mimetype": "text/x-python",
   "name": "python",
   "nbconvert_exporter": "python",
   "pygments_lexer": "ipython3",
   "version": "3.11.4"
  }
 },
 "nbformat": 4,
 "nbformat_minor": 5
}
