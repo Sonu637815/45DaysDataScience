{
 "cells": [
  {
   "cell_type": "code",
   "execution_count": null,
   "id": "1ebaebfb",
   "metadata": {},
   "outputs": [],
   "source": [
    "##list comprehension is a way to create a new list using short syntax.\n",
    "#[expression/output for loop condition]"
   ]
  },
  {
   "cell_type": "code",
   "execution_count": 2,
   "id": "944ab6cf",
   "metadata": {},
   "outputs": [
    {
     "name": "stdout",
     "output_type": "stream",
     "text": [
      "['RED', 'BLUE', 'GREEN', 'BLACK']\n"
     ]
    }
   ],
   "source": [
    "lst = [\"red\",\"blue\",\"green\",\"black\"]\n",
    "newlist = [i.upper() for i in lst]\n",
    "print(newlist)"
   ]
  },
  {
   "cell_type": "code",
   "execution_count": 6,
   "id": "870f8be6",
   "metadata": {},
   "outputs": [
    {
     "name": "stdout",
     "output_type": "stream",
     "text": [
      "[1, 4, 9, 16, 25]\n"
     ]
    }
   ],
   "source": [
    "lst = [1,2,3,4,5]\n",
    "newlist = [i*i for i in lst ]\n",
    "print(newlist)"
   ]
  },
  {
   "cell_type": "code",
   "execution_count": 7,
   "id": "b6bcfadb",
   "metadata": {},
   "outputs": [
    {
     "name": "stdout",
     "output_type": "stream",
     "text": [
      "[4, 16]\n"
     ]
    }
   ],
   "source": [
    "lst = [1,2,3,4,5]\n",
    "newlist = [i*i for i in lst if i%2==0]\n",
    "print(newlist)"
   ]
  },
  {
   "cell_type": "code",
   "execution_count": null,
   "id": "8806e33f",
   "metadata": {},
   "outputs": [
    {
     "name": "stdout",
     "output_type": "stream",
     "text": [
      "[<built-in method upper of str object at 0x00007FF9BCBE9AB8>, <built-in method upper of str object at 0x00007FF9BCBE9738>, <built-in method upper of str object at 0x00007FF9BCBE9850>, <built-in method upper of str object at 0x00007FF9BCBE9738>]\n"
     ]
    }
   ],
   "source": [
    "#arguments with the first letter of the element\n",
    "\n",
    "lst = [\"red\",\"blue\",\"green\",\"black\"]\n",
    "newlist = [i[0] for i in lst]\n",
    "print(newlist)"
   ]
  },
  {
   "cell_type": "code",
   "execution_count": null,
   "id": "f3b6764a",
   "metadata": {},
   "outputs": [],
   "source": [
    "#flattering a list\n",
    "lst = [[1,2,3],[4,5,6],[7,8,9]]\n",
    "newlist = []"
   ]
  }
 ],
 "metadata": {
  "kernelspec": {
   "display_name": "Python 3",
   "language": "python",
   "name": "python3"
  },
  "language_info": {
   "codemirror_mode": {
    "name": "ipython",
    "version": 3
   },
   "file_extension": ".py",
   "mimetype": "text/x-python",
   "name": "python",
   "nbconvert_exporter": "python",
   "pygments_lexer": "ipython3",
   "version": "3.11.4"
  }
 },
 "nbformat": 4,
 "nbformat_minor": 5
}
