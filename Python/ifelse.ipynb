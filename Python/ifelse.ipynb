{
 "cells": [
  {
   "cell_type": "code",
   "execution_count": 4,
   "id": "d26ce243",
   "metadata": {},
   "outputs": [
    {
     "name": "stdout",
     "output_type": "stream",
     "text": [
      "b is equal to a\n"
     ]
    }
   ],
   "source": [
    "##conditional statement ----> if , elif, else\n",
    "a = 10\n",
    "b =10\n",
    "if b<a:\n",
    "    #indentation\n",
    "    print(\"b is greater than a\")\n",
    "elif b==a:\n",
    "    print(\"b is equal to a\")\n",
    "else:\n",
    "    print(\"b is less than a\")\n"
   ]
  },
  {
   "cell_type": "code",
   "execution_count": 8,
   "id": "18945ff3",
   "metadata": {},
   "outputs": [
    {
     "name": "stdout",
     "output_type": "stream",
     "text": [
      "hello\n"
     ]
    }
   ],
   "source": [
    "a = 10\n",
    "b = 20\n",
    "c = 30\n",
    "if not (b>a and a<c):\n",
    "    #indentation\n",
    "    print(\"b is greater than a and a is less than c\")\n",
    "#elif b==a:\n",
    "   # print(\"b is equal to a\")\n",
    "else:\n",
    "    print(\"hello\")\n"
   ]
  },
  {
   "cell_type": "code",
   "execution_count": 24,
   "id": "3c7d57c2",
   "metadata": {},
   "outputs": [
    {
     "ename": "TypeError",
     "evalue": "'>' not supported between instances of 'str' and 'int'",
     "output_type": "error",
     "traceback": [
      "\u001b[31m---------------------------------------------------------------------------\u001b[39m",
      "\u001b[31mTypeError\u001b[39m                                 Traceback (most recent call last)",
      "\u001b[36mCell\u001b[39m\u001b[36m \u001b[39m\u001b[32mIn[24]\u001b[39m\u001b[32m, line 5\u001b[39m\n\u001b[32m      2\u001b[39m a = (\u001b[38;5;28minput\u001b[39m(\u001b[33m\"\u001b[39m\u001b[33menter a number:\u001b[39m\u001b[33m\"\u001b[39m))\n\u001b[32m      3\u001b[39m \u001b[38;5;66;03m#print(a)\u001b[39;00m\n\u001b[32m      4\u001b[39m \u001b[38;5;66;03m#(type(a))\u001b[39;00m\n\u001b[32m----> \u001b[39m\u001b[32m5\u001b[39m \u001b[38;5;28;01mif\u001b[39;00m \u001b[43ma\u001b[49m\u001b[43m>\u001b[49m\u001b[32;43m0\u001b[39;49m:\n\u001b[32m      6\u001b[39m     \u001b[38;5;28;01mif\u001b[39;00m a%\u001b[32m2\u001b[39m==\u001b[32m0\u001b[39m:\n\u001b[32m      7\u001b[39m         \u001b[38;5;28mprint\u001b[39m(\u001b[33m\"\u001b[39m\u001b[33ma is even\u001b[39m\u001b[33m\"\u001b[39m)\n",
      "\u001b[31mTypeError\u001b[39m: '>' not supported between instances of 'str' and 'int'"
     ]
    }
   ],
   "source": [
    "#nested if else\n",
    "a = (input(\"enter a number:\"))\n",
    "#print(a)\n",
    "#(type(a))\n",
    "if a>0:\n",
    "    if a%2==0:\n",
    "        print(\"a is even\")\n",
    "    else:\n",
    "        print(\"a is odd\")\n",
    "else:\n",
    "    print(\"a is negative\")\n"
   ]
  },
  {
   "cell_type": "code",
   "execution_count": null,
   "id": "92ed44b2",
   "metadata": {},
   "outputs": [],
   "source": [
    "#check if number is divisible by 5 and 7\n",
    "#\n"
   ]
  }
 ],
 "metadata": {
  "kernelspec": {
   "display_name": "Python 3",
   "language": "python",
   "name": "python3"
  },
  "language_info": {
   "codemirror_mode": {
    "name": "ipython",
    "version": 3
   },
   "file_extension": ".py",
   "mimetype": "text/x-python",
   "name": "python",
   "nbconvert_exporter": "python",
   "pygments_lexer": "ipython3",
   "version": "3.11.4"
  }
 },
 "nbformat": 4,
 "nbformat_minor": 5
}
