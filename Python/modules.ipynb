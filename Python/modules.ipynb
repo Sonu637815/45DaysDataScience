{
 "cells": [
  {
   "cell_type": "code",
   "execution_count": 1,
   "id": "c6b044fb",
   "metadata": {},
   "outputs": [],
   "source": [
    "##modules --- importing other python files into current file\n",
    "#module is a single python file(.py)\n",
    "#there are 3 types of modules:\n",
    "#1. built-in modules -- os, datetime, re, math\n",
    "#2. third-party modules -- pandas, numpy\n",
    "#3. user-defined modules"
   ]
  },
  {
   "cell_type": "code",
   "execution_count": 3,
   "id": "bba2eb0d",
   "metadata": {},
   "outputs": [
    {
     "name": "stdout",
     "output_type": "stream",
     "text": [
      "5\n"
     ]
    }
   ],
   "source": [
    "#import os\n",
    "from basic import addfunction\n",
    "print(addfunction(2,3))\n",
    "\n"
   ]
  },
  {
   "cell_type": "code",
   "execution_count": null,
   "id": "bcb27caf",
   "metadata": {},
   "outputs": [],
   "source": []
  }
 ],
 "metadata": {
  "kernelspec": {
   "display_name": "Python 3",
   "language": "python",
   "name": "python3"
  },
  "language_info": {
   "codemirror_mode": {
    "name": "ipython",
    "version": 3
   },
   "file_extension": ".py",
   "mimetype": "text/x-python",
   "name": "python",
   "nbconvert_exporter": "python",
   "pygments_lexer": "ipython3",
   "version": "3.11.4"
  }
 },
 "nbformat": 4,
 "nbformat_minor": 5
}
