{
 "cells": [
  {
   "cell_type": "code",
   "execution_count": null,
   "id": "5eec4fbb",
   "metadata": {},
   "outputs": [
    {
     "name": "stdout",
     "output_type": "stream",
     "text": [
      "h\n",
      "e\n",
      "l\n",
      "l\n",
      "o\n"
     ]
    }
   ],
   "source": [
    "#for and while loop:\n",
    "## for loop ---> iterating over a sequence(list, tuple and range)\n",
    "\n",
    "#string :\n",
    "for i in \"hello\":\n",
    "    print(i)"
   ]
  },
  {
   "cell_type": "code",
   "execution_count": 12,
   "id": "3a276b71",
   "metadata": {},
   "outputs": [
    {
     "name": "stdout",
     "output_type": "stream",
     "text": [
      "red blue green "
     ]
    }
   ],
   "source": [
    "#list\n",
    "list = [\"red\",\"blue\",\"green\"]\n",
    "for i in list:\n",
    "    print(i,end=\" \")"
   ]
  },
  {
   "cell_type": "code",
   "execution_count": 24,
   "id": "6c22f0ea",
   "metadata": {},
   "outputs": [
    {
     "name": "stdout",
     "output_type": "stream",
     "text": [
      "name ----- sonu\n",
      "age ----- 21\n",
      "hobby ----- playing\n"
     ]
    }
   ],
   "source": [
    "#dictionary\n",
    "dt ={\n",
    "    \"name\" : \"sonu\",\n",
    "    \"age\" : \"21\",\n",
    "    \"hobby\" : \"playing\"}\n",
    "for i,j in dt.items():\n",
    "    print(i,\"-----\",j)"
   ]
  },
  {
   "cell_type": "code",
   "execution_count": 28,
   "id": "c3abd13b",
   "metadata": {},
   "outputs": [
    {
     "name": "stdout",
     "output_type": "stream",
     "text": [
      "2\n",
      "5\n",
      "8\n"
     ]
    }
   ],
   "source": [
    "#range\n",
    "for i in range(2,10,3):\n",
    "    print(i)"
   ]
  },
  {
   "cell_type": "code",
   "execution_count": 29,
   "id": "d2f3e5d2",
   "metadata": {},
   "outputs": [
    {
     "name": "stdout",
     "output_type": "stream",
     "text": [
      "1 red\n",
      "-------\n",
      "1 blue\n",
      "-------\n",
      "1 green\n",
      "-------\n",
      "2 red\n",
      "-------\n",
      "2 blue\n",
      "-------\n",
      "2 green\n",
      "-------\n",
      "3 red\n",
      "-------\n",
      "3 blue\n",
      "-------\n",
      "3 green\n",
      "-------\n"
     ]
    }
   ],
   "source": [
    "##nested for loop:\n",
    "list1 = [1,2,3]\n",
    "list2 = [\"red\",\"blue\",\"green\"]\n",
    "for i in list1:\n",
    "    for j in list2:\n",
    "        print(i,j)\n",
    "        print(\"-------\")"
   ]
  },
  {
   "cell_type": "code",
   "execution_count": 31,
   "id": "9f6f8dbf",
   "metadata": {},
   "outputs": [
    {
     "name": "stdout",
     "output_type": "stream",
     "text": [
      "1\n",
      "2\n",
      "3\n",
      "4\n",
      "6\n",
      "7\n",
      "8\n",
      "9\n"
     ]
    }
   ],
   "source": [
    "##break and  continue\n",
    "#for i in range(1,10):\n",
    " #   if i==5:\n",
    "  #      break\n",
    "   # print(i)\n",
    "\n",
    "for i in range(1,10):\n",
    "    if i==5:\n",
    "        continue\n",
    "    print(i)\n",
    "\n"
   ]
  },
  {
   "cell_type": "code",
   "execution_count": 34,
   "id": "81837e11",
   "metadata": {},
   "outputs": [
    {
     "name": "stdout",
     "output_type": "stream",
     "text": [
      "9\n"
     ]
    }
   ],
   "source": [
    "#pass\n",
    "for i in range(1,10):\n",
    "    pass\n",
    "print(i)"
   ]
  },
  {
   "cell_type": "code",
   "execution_count": 39,
   "id": "8d9cc1ac",
   "metadata": {},
   "outputs": [
    {
     "name": "stdout",
     "output_type": "stream",
     "text": [
      "[4]\n",
      "[4, 9]\n",
      "[4, 9, 16]\n",
      "[4, 9, 16, 25]\n"
     ]
    }
   ],
   "source": [
    "#you have to square the given list and print the result in a list\n",
    "lst = [2,3,4,5]\n",
    "lst1 = []\n",
    "for i in lst:\n",
    "    lst1.append(i**2)\n",
    "    print(lst1)\n",
    "\n",
    "    \n"
   ]
  },
  {
   "cell_type": "code",
   "execution_count": null,
   "id": "0ea7fa46",
   "metadata": {},
   "outputs": [
    {
     "name": "stdout",
     "output_type": "stream",
     "text": [
      "1\n",
      "2\n",
      "3\n",
      "4\n",
      "5\n",
      "6\n",
      "7\n",
      "8\n",
      "9\n",
      "10\n"
     ]
    }
   ],
   "source": [
    "#while loop\n",
    "\n",
    "i = 1\n",
    "while i<=10:\n",
    "    print(i)\n",
    "    i+=1\n"
   ]
  },
  {
   "cell_type": "code",
   "execution_count": null,
   "id": "a3e083a1",
   "metadata": {},
   "outputs": [],
   "source": []
  },
  {
   "cell_type": "code",
   "execution_count": 52,
   "id": "359e264d",
   "metadata": {},
   "outputs": [
    {
     "name": "stdout",
     "output_type": "stream",
     "text": [
      "10\n",
      "9\n",
      "8\n",
      "7\n",
      "6\n",
      "5\n",
      "4\n",
      "3\n",
      "2\n",
      "1\n"
     ]
    }
   ],
   "source": [
    "# reverse\n",
    "i = 10\n",
    "while i>=1:\n",
    "    print(i)\n",
    "    i-=1\n"
   ]
  },
  {
   "cell_type": "code",
   "execution_count": 53,
   "id": "aa49e075",
   "metadata": {},
   "outputs": [
    {
     "name": "stdout",
     "output_type": "stream",
     "text": [
      "1\n",
      "2\n",
      "3\n",
      "4\n"
     ]
    }
   ],
   "source": [
    "i = 1\n",
    "while i<=10:\n",
    "    if i==5:\n",
    "        break\n",
    "    print(i)\n",
    "    i+=1\n"
   ]
  },
  {
   "cell_type": "code",
   "execution_count": null,
   "id": "bb6d65b7",
   "metadata": {},
   "outputs": [
    {
     "name": "stdout",
     "output_type": "stream",
     "text": [
      "1\n",
      "2\n",
      "3\n",
      "4\n"
     ]
    }
   ],
   "source": [
    "i = 1\n",
    "while i<=10:\n",
    "    if i==5:\n",
    "        continue\n",
    "    print(i)\n",
    "    i+=1\n"
   ]
  },
  {
   "cell_type": "code",
   "execution_count": null,
   "id": "25174a79",
   "metadata": {},
   "outputs": [],
   "source": []
  }
 ],
 "metadata": {
  "kernelspec": {
   "display_name": "Python 3",
   "language": "python",
   "name": "python3"
  },
  "language_info": {
   "codemirror_mode": {
    "name": "ipython",
    "version": 3
   },
   "file_extension": ".py",
   "mimetype": "text/x-python",
   "name": "python",
   "nbconvert_exporter": "python",
   "pygments_lexer": "ipython3",
   "version": "3.11.4"
  }
 },
 "nbformat": 4,
 "nbformat_minor": 5
}
