{
 "cells": [
  {
   "cell_type": "code",
   "execution_count": null,
   "id": "26e83204",
   "metadata": {},
   "outputs": [],
   "source": [
    "##error handling\n",
    "##type of blocks ---> try, except, else, finally\n",
    "##try --> try block contains the code that might raise an exception.\n",
    "##except --> except block handles the exception if it occurs.\n",
    "##else --> else block executes if no exception occurs in the try block.\n",
    "##finally --> finally block always executes, whether or not an exception occurred.\n"
   ]
  },
  {
   "cell_type": "code",
   "execution_count": 3,
   "id": "f30a312d",
   "metadata": {},
   "outputs": [
    {
     "name": "stdout",
     "output_type": "stream",
     "text": [
      "division by zero\n",
      "finally block\n"
     ]
    }
   ],
   "source": [
    "##zero division error\n",
    "try:\n",
    "    print(10/0)\n",
    "except Exception as e:\n",
    "    print(e)\n",
    "else:\n",
    "    print(\"else block\")\n",
    "finally:\n",
    "    print(\"finally block\")            "
   ]
  },
  {
   "cell_type": "code",
   "execution_count": null,
   "id": "9986fc7d",
   "metadata": {},
   "outputs": [],
   "source": [
    "##index error"
   ]
  }
 ],
 "metadata": {
  "kernelspec": {
   "display_name": "Python 3",
   "language": "python",
   "name": "python3"
  },
  "language_info": {
   "codemirror_mode": {
    "name": "ipython",
    "version": 3
   },
   "file_extension": ".py",
   "mimetype": "text/x-python",
   "name": "python",
   "nbconvert_exporter": "python",
   "pygments_lexer": "ipython3",
   "version": "3.11.4"
  }
 },
 "nbformat": 4,
 "nbformat_minor": 5
}
