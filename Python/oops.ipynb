{
 "cells": [
  {
   "cell_type": "markdown",
   "id": "f3a9aac7",
   "metadata": {},
   "source": [
    "OOPs\n"
   ]
  },
  {
   "cell_type": "code",
   "execution_count": 1,
   "id": "147aed2b",
   "metadata": {},
   "outputs": [],
   "source": [
    "##class, object, method\n",
    "##types of oops\n",
    "#1. Inheritance --- single, multiple, multilevel, hybrid, hierarical\n",
    "#2. polymorpism\n",
    "#3. encapsulation\n",
    "\n",
    "\n",
    "##class -- blueprint of object\n",
    "#object -- instance of object"
   ]
  },
  {
   "cell_type": "code",
   "execution_count": 6,
   "id": "24242a26",
   "metadata": {},
   "outputs": [
    {
     "data": {
      "text/plain": [
       "('abc', 'xyz')"
      ]
     },
     "execution_count": 6,
     "metadata": {},
     "output_type": "execute_result"
    }
   ],
   "source": [
    "class car:\n",
    "    #class variables\n",
    "    num1 = 10\n",
    "    num2 = 20\n",
    "    name =\"abc\"\n",
    "    model =\"xyz\"\n",
    "\n",
    "    def add(self):                                      #self\n",
    "        return self.num1 + self.num2\n",
    "\n",
    "    def display(self):\n",
    "        return self.name , self.model\n",
    "\n",
    "#obj --- \n",
    "obj = car()\n",
    "obj.display()\n"
   ]
  },
  {
   "cell_type": "code",
   "execution_count": 9,
   "id": "e060b37f",
   "metadata": {},
   "outputs": [
    {
     "data": {
      "text/plain": [
       "('lion', 10)"
      ]
     },
     "execution_count": 9,
     "metadata": {},
     "output_type": "execute_result"
    }
   ],
   "source": [
    "##init -- constructor ---  used for initialize the variables\n",
    "class animal:\n",
    "    def __init__(self,name,age):\n",
    "        self.name = name\n",
    "        self.age = age\n",
    "\n",
    "    def display(self):\n",
    "        return self.name, self.age\n",
    "    \n",
    "obj = animal(\"lion\",10)\n",
    "obj.display()"
   ]
  },
  {
   "cell_type": "markdown",
   "id": "b68f2c1c",
   "metadata": {},
   "source": [
    "Inheritance"
   ]
  },
  {
   "cell_type": "code",
   "execution_count": null,
   "id": "1d8263a7",
   "metadata": {},
   "outputs": [
    {
     "name": "stdout",
     "output_type": "stream",
     "text": [
      "car\n",
      "bike\n"
     ]
    }
   ],
   "source": [
    "##inheritane --> \n",
    "\n",
    "\n",
    "class car:\n",
    "    def display(self):\n",
    "        return \"car\"\n",
    "    \n",
    "class bike(car):     ##bike class inherits from car class\n",
    "    def show(self):\n",
    "        return \"bike\"\n",
    "    \n",
    "obj = bike()\n",
    "print(obj.display())\n",
    "print(obj.show())"
   ]
  },
  {
   "cell_type": "markdown",
   "id": "9ad4e022",
   "metadata": {},
   "source": [
    "Single InheRitance"
   ]
  },
  {
   "cell_type": "code",
   "execution_count": null,
   "id": "026be409",
   "metadata": {},
   "outputs": [
    {
     "data": {
      "text/plain": [
       "'sonu'"
      ]
     },
     "execution_count": 8,
     "metadata": {},
     "output_type": "execute_result"
    }
   ],
   "source": [
    "##single inheritance --- \n",
    "class person:\n",
    "    def __init__(self,name):\n",
    "        self.name = name\n",
    "    \n",
    "    def show(self):\n",
    "        return self.name\n",
    "    \n",
    "class employee(person):\n",
    "        def __init__(self,name,salary):\n",
    "            super().__init__(name)\n",
    "            self.salary = salary \n",
    "\n",
    "obj = employee(\"sonu\",1000)\n",
    "obj.show()"
   ]
  },
  {
   "cell_type": "markdown",
   "id": "c65dc276",
   "metadata": {},
   "source": [
    "Multiple Inheritance"
   ]
  },
  {
   "cell_type": "code",
   "execution_count": 14,
   "id": "1a6dc794",
   "metadata": {},
   "outputs": [
    {
     "data": {
      "text/plain": [
       "'sonu'"
      ]
     },
     "execution_count": 14,
     "metadata": {},
     "output_type": "execute_result"
    }
   ],
   "source": [
    "##multiple inherritance --- \n",
    "class person:\n",
    "    def __init__(self,name):\n",
    "        self.name = name\n",
    "    \n",
    "    def show(self):\n",
    "        return self.name\n",
    "    \n",
    "class employee(person):\n",
    "     def __init__(self,name,salary):\n",
    "           super().__init__(name)\n",
    "           self.salary = salary \n",
    "\n",
    "\n",
    "class job:\n",
    "     def __init__(self,salary):\n",
    "          self.salary = salary\n",
    "\n",
    "class employeepersonjob(employee,job):\n",
    "     def __init__(self,name,salary):\n",
    "          employee.__init__(self,name,salary)\n",
    "          job.__init__(self,salary)\n",
    "          \n",
    "obj = employeepersonjob(\"sonu\",20000)\n",
    "obj.show()\n",
    "  \n",
    " "
   ]
  },
  {
   "cell_type": "markdown",
   "id": "05361ff4",
   "metadata": {},
   "source": [
    "Multilevel inheritance"
   ]
  },
  {
   "cell_type": "code",
   "execution_count": 15,
   "id": "aa0f706c",
   "metadata": {},
   "outputs": [
    {
     "ename": "AttributeError",
     "evalue": "'employeepersonjob' object has no attribute 'employeepersonjobnumber'",
     "output_type": "error",
     "traceback": [
      "\u001b[31m---------------------------------------------------------------------------\u001b[39m",
      "\u001b[31mAttributeError\u001b[39m                            Traceback (most recent call last)",
      "\u001b[36mCell\u001b[39m\u001b[36m \u001b[39m\u001b[32mIn[15]\u001b[39m\u001b[32m, line 30\u001b[39m\n\u001b[32m     26\u001b[39m           job.\u001b[34m__init__\u001b[39m(\u001b[38;5;28mself\u001b[39m,salary)\n\u001b[32m     27\u001b[39m           number.\u001b[34m__init__\u001b[39m(\u001b[38;5;28mself\u001b[39m,number)\n\u001b[32m---> \u001b[39m\u001b[32m30\u001b[39m \u001b[43mobj\u001b[49m\u001b[43m.\u001b[49m\u001b[43memployeepersonjobnumber\u001b[49m(\u001b[33m\"\u001b[39m\u001b[33msonu\u001b[39m\u001b[33m\"\u001b[39m,\u001b[32m2000\u001b[39m,\u001b[32m6478987890\u001b[39m)\n\u001b[32m     31\u001b[39m obj.show()\n",
      "\u001b[31mAttributeError\u001b[39m: 'employeepersonjob' object has no attribute 'employeepersonjobnumber'"
     ]
    }
   ],
   "source": [
    "###multilevel inheritance --->\n",
    "class person:\n",
    "    def __init__(self,name):\n",
    "        self.name = name\n",
    "    \n",
    "    def show(self):\n",
    "        return self.name\n",
    "    \n",
    "class employee(person):\n",
    "     def __init__(self,name,salary):\n",
    "           super().__init__(name)\n",
    "           self.salary = salary \n",
    "\n",
    "\n",
    "class job:\n",
    "     def __init__(self,salary):\n",
    "          self.salary = salary\n",
    "\n",
    "class number:\n",
    "     def __init__(self,mobnum):\n",
    "          self.mobnum = mobnum\n",
    "\n",
    "class employeepersonjobnumber(employee,job,number):\n",
    "     def __init__(self,name,salary,number):\n",
    "          employee.__init__(self,name,salary)\n",
    "          job.__init__(self,salary)\n",
    "          number.__init__(self,number)\n",
    "\n",
    "\n",
    "obj.employeepersonjobnumber(\"sonu\",2000,6478987890)\n",
    "obj.show()\n"
   ]
  },
  {
   "cell_type": "markdown",
   "id": "eb4e5c74",
   "metadata": {},
   "source": [
    "Polymorphism"
   ]
  },
  {
   "cell_type": "code",
   "execution_count": 19,
   "id": "58771f54",
   "metadata": {},
   "outputs": [
    {
     "name": "stdout",
     "output_type": "stream",
     "text": [
      "meow\n",
      "bark\n"
     ]
    }
   ],
   "source": [
    "##polymorpism --->  many form --- the same method or function behaves differently based\n",
    "##on thee input\n",
    "\n",
    "\n",
    "class Cat:\n",
    "    def sound(self):\n",
    "        return \"meow\"\n",
    "    \n",
    "class Dog:\n",
    "    def sound(self):\n",
    "        return \"bark\"\n",
    "    \n",
    "\n",
    "def make_sound(animal):\n",
    "    return animal.sound()\n",
    "\n",
    "cat = Cat()\n",
    "dog = Dog()\n",
    "\n",
    "print(make_sound(cat))\n",
    "print(make_sound(dog))"
   ]
  },
  {
   "cell_type": "markdown",
   "id": "3352d96a",
   "metadata": {},
   "source": [
    "Calculate the area of different shapes"
   ]
  },
  {
   "cell_type": "code",
   "execution_count": 30,
   "id": "5506e67b",
   "metadata": {},
   "outputs": [
    {
     "name": "stdout",
     "output_type": "stream",
     "text": [
      "16.0\n",
      "48.0\n",
      "78.5\n"
     ]
    }
   ],
   "source": [
    "##calculate the area of different types of shapes\n",
    "\n",
    "class Square:\n",
    "    def area(self):\n",
    "        a = float(input(\"enter the number\"))\n",
    "        return a*a \n",
    "    \n",
    "class Rectangle:\n",
    "    def area(self):\n",
    "        l = float(input(\"enter the number\"))\n",
    "        b = float(input(\"enter the number\"))\n",
    "        return l*b \n",
    "    \n",
    "class Circle:\n",
    "    def area(self):\n",
    "        r = float(input(\"enter the number\"))\n",
    "        return 3.14*r*r \n",
    "    \n",
    "def calculate_area(shapes):\n",
    "    return shapes.area()\n",
    "\n",
    "square = Square()\n",
    "rectangle = Rectangle()\n",
    "circle = Circle()\n",
    "\n",
    "print(calculate_area(square))\n",
    "print(calculate_area(rectangle))\n",
    "print(calculate_area(circle))\n",
    "\n",
    "    "
   ]
  },
  {
   "cell_type": "code",
   "execution_count": 32,
   "id": "af5c290c",
   "metadata": {},
   "outputs": [
    {
     "name": "stdout",
     "output_type": "stream",
     "text": [
      "16\n",
      "24\n",
      "78.5\n"
     ]
    }
   ],
   "source": [
    "class Square:\n",
    "    def area(self):\n",
    "        a = 4\n",
    "        return a*a \n",
    "    \n",
    "class Rectangle:\n",
    "    def area(self):\n",
    "        l = 4\n",
    "        b = 6\n",
    "        return l*b \n",
    "    \n",
    "class Circle:\n",
    "    def area(self):\n",
    "        r = 5\n",
    "        return 3.14*r*r \n",
    "    \n",
    "def calculate_area(shapes):\n",
    "    return shapes.area()\n",
    "\n",
    "square = Square()\n",
    "rectangle = Rectangle()\n",
    "circle = Circle()\n",
    "\n",
    "print(calculate_area(square))\n",
    "print(calculate_area(rectangle))\n",
    "print(calculate_area(circle))\n"
   ]
  },
  {
   "cell_type": "markdown",
   "id": "22c59ba8",
   "metadata": {},
   "source": [
    "Encapsulation"
   ]
  },
  {
   "cell_type": "code",
   "execution_count": 1,
   "id": "8a0e1830",
   "metadata": {},
   "outputs": [],
   "source": [
    "###encapsulation\n",
    "## it means hiding the internal details of a class and protecting data from being process or modified directtly by the outside world.\n",
    "## we can do it by using private and protected variable\n",
    "#private variable -- __name\n",
    "##cannot be accessible outside the class\n",
    "\n",
    "##protected variable -- _name\n",
    "##it can be accessible inside the class and its subclasses\n",
    "\n",
    "\n",
    "\n",
    "\n",
    "\n"
   ]
  },
  {
   "cell_type": "code",
   "execution_count": 3,
   "id": "6ad5b27f",
   "metadata": {},
   "outputs": [
    {
     "data": {
      "text/plain": [
       "50"
      ]
     },
     "execution_count": 3,
     "metadata": {},
     "output_type": "execute_result"
    }
   ],
   "source": [
    "class student:\n",
    "    def __init__(self,name,marks):\n",
    "        self.name = name\n",
    "        self.__marks = marks\n",
    "\n",
    "    def get_marks(self):\n",
    "        return self.__marks\n",
    "    \n",
    "    def set_marks(self,marks):\n",
    "        if 0 <= marks <= 100:\n",
    "            self.__marks = marks\n",
    "        else:\n",
    "            print(\"Invalid marks\")\n",
    "\n",
    "\n",
    "s = student(\"sonu\",50)\n",
    "##name mangling\n",
    "s._student__marks"
   ]
  },
  {
   "cell_type": "code",
   "execution_count": null,
   "id": "e3e4806e",
   "metadata": {},
   "outputs": [],
   "source": []
  }
 ],
 "metadata": {
  "kernelspec": {
   "display_name": "Python 3",
   "language": "python",
   "name": "python3"
  },
  "language_info": {
   "codemirror_mode": {
    "name": "ipython",
    "version": 3
   },
   "file_extension": ".py",
   "mimetype": "text/x-python",
   "name": "python",
   "nbconvert_exporter": "python",
   "pygments_lexer": "ipython3",
   "version": "3.11.4"
  }
 },
 "nbformat": 4,
 "nbformat_minor": 5
}
