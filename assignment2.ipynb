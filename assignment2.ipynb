{
 "cells": [
  {
   "cell_type": "markdown",
   "id": "9f4de84d",
   "metadata": {},
   "source": [
    "Assignment 2"
   ]
  },
  {
   "cell_type": "markdown",
   "id": "8228a2a8",
   "metadata": {},
   "source": [
    "Loops and Conditional Statement"
   ]
  },
  {
   "cell_type": "markdown",
   "id": "34488282",
   "metadata": {},
   "source": [
    "\n",
    "1. How do `if-elif-else` statements work in Python? Provide an example where multiple conditions must be checked and explain the flow of control.\n",
    "   \n",
    "\n",
    "   \n",
    "\n"
   ]
  },
  {
   "cell_type": "markdown",
   "id": "a8379773",
   "metadata": {},
   "source": [
    "Answer : "
   ]
  },
  {
   "cell_type": "markdown",
   "id": "743bd521",
   "metadata": {},
   "source": [
    "The 'if-elif-else' structure checks conditions in order. If the 'if' condition is true, its block executes and the rest are skipped. If not, each 'elif' is checked in order. If none are true, the 'else' block executes."
   ]
  },
  {
   "cell_type": "markdown",
   "id": "4b123b18",
   "metadata": {},
   "source": [
    "   Coding Challenge:Write a function that takes a number as input and returns \"Positive\", \"Negative\", or \"Zero\" based on the input value."
   ]
  },
  {
   "cell_type": "code",
   "execution_count": 2,
   "id": "ed33fd45",
   "metadata": {},
   "outputs": [
    {
     "name": "stdout",
     "output_type": "stream",
     "text": [
      "Positive\n",
      "Negative\n",
      "Zero\n"
     ]
    }
   ],
   "source": [
    "def check_number(num):\n",
    "    if num > 0:\n",
    "        return \"Positive\"\n",
    "    elif num < 0:\n",
    "        return \"Negative\"\n",
    "    else:\n",
    "        return \"Zero\"\n",
    "\n",
    "# Example\n",
    "print(check_number(5))   # Positive\n",
    "print(check_number(-3))  # Negative\n",
    "print(check_number(0))   # Zero\n"
   ]
  },
  {
   "cell_type": "markdown",
   "id": "92822028",
   "metadata": {},
   "source": [
    "2. What is the difference between `for` loops and `while` loops in terms of conditional checks? When would you prefer one over the other? "
   ]
  },
  {
   "cell_type": "markdown",
   "id": "e70fa01e",
   "metadata": {},
   "source": [
    "Answer : "
   ]
  },
  {
   "cell_type": "markdown",
   "id": "9fa46cd2",
   "metadata": {},
   "source": [
    "for loops are used when the number of iterations is known.\n",
    "\n",
    "while loops are used when the loop should run until a condition is false."
   ]
  },
  {
   "cell_type": "markdown",
   "id": "36472e55",
   "metadata": {},
   "source": [
    "Coding Challenge:  Write a Python script to print all prime numbers between 1 and 100 using a `for` loop.\n"
   ]
  },
  {
   "cell_type": "code",
   "execution_count": 3,
   "id": "c9d2a6ad",
   "metadata": {},
   "outputs": [
    {
     "name": "stdout",
     "output_type": "stream",
     "text": [
      "2 3 5 7 11 13 17 19 23 29 31 37 41 43 47 53 59 61 67 71 73 79 83 89 97 "
     ]
    }
   ],
   "source": [
    "for num in range(2, 101):\n",
    "    for i in range(2, int(num ** 0.5) + 1):\n",
    "        if num % i == 0:\n",
    "            break\n",
    "    else:\n",
    "        print(num, end=\" \")\n"
   ]
  },
  {
   "cell_type": "markdown",
   "id": "afe450bc",
   "metadata": {},
   "source": [
    "3. Explain how nested `if` statements work in Python. How can you avoid deep nesting to make your code more readable? "
   ]
  },
  {
   "cell_type": "markdown",
   "id": "e739798f",
   "metadata": {},
   "source": [
    "Answer : "
   ]
  },
  {
   "cell_type": "markdown",
   "id": "92ff8382",
   "metadata": {},
   "source": [
    "Nested ifs are if statements inside other ifs. To avoid deep nesting, use logical operators or early returns."
   ]
  },
  {
   "cell_type": "markdown",
   "id": "07e15ebc",
   "metadata": {},
   "source": [
    "Coding Challenge:  Write a function that takes three numbers as input and returns the largest of the three using nested `if` statements."
   ]
  },
  {
   "cell_type": "code",
   "execution_count": 8,
   "id": "f451384e",
   "metadata": {},
   "outputs": [
    {
     "name": "stdout",
     "output_type": "stream",
     "text": [
      "Second number (8) is the largest.\n"
     ]
    }
   ],
   "source": [
    "\n",
    "num1 = int(input(\"Enter a first number : \"))\n",
    "num2 = int(input(\"Enter a second number : \"))\n",
    "num3 = int(input(\"Enter a third number : \"))\n",
    "\n",
    "if num1>num2 and num1>num3:\n",
    "  print(f\"First number ({num1}) is the largest.\")\n",
    "elif num2>num1 and num2>num3:\n",
    "  print(f\"Second number ({num2}) is the largest.\")\n",
    "else:\n",
    "  print(f\"Third number ({num3}) is the largest.\")"
   ]
  },
  {
   "cell_type": "markdown",
   "id": "168cc216",
   "metadata": {},
   "source": [
    "4.  What are the potential risks of using `break` in loops? How does it affect loop execution and what alternatives can you use? "
   ]
  },
  {
   "cell_type": "markdown",
   "id": "493f286d",
   "metadata": {},
   "source": [
    "Answer : \n"
   ]
  },
  {
   "cell_type": "markdown",
   "id": "2a8be615",
   "metadata": {},
   "source": [
    "What break Does:\n",
    "Immediately terminates the loop (either for or while) in which it appears.\n",
    "Control moves to the first statement after the loop.\n",
    "\n",
    "Potential Risks of Using break:\n",
    "Loss of Readability, Debugging Difficulty, Hidden Bugs.\n"
   ]
  },
  {
   "cell_type": "markdown",
   "id": "909f1475",
   "metadata": {},
   "source": [
    "Coding Challenge:  Write a Python program that reads numbers from the user until they input a negative number. The program should then print the sum of all positive numbers entered."
   ]
  },
  {
   "cell_type": "code",
   "execution_count": 10,
   "id": "73f7f8f0",
   "metadata": {},
   "outputs": [
    {
     "name": "stdout",
     "output_type": "stream",
     "text": [
      "Sum of all positive numbers: 23\n"
     ]
    }
   ],
   "source": [
    "\n",
    "total = 0\n",
    "\n",
    "\n",
    "while True:\n",
    "    num = int(input(\"Enter a number (negative to stop): \"))\n",
    "    \n",
    "    if num < 0:\n",
    "        break  # Exit the loop if negative number is entered\n",
    "    total += num  # Add positive number to total\n",
    "\n",
    "\n",
    "print(\"Sum of all positive numbers:\", total)\n"
   ]
  },
  {
   "cell_type": "markdown",
   "id": "5232eaa6",
   "metadata": {},
   "source": [
    "5.  How does the `else` clause in a loop work, and how does it differ from the `else` in conditional statements? "
   ]
  },
  {
   "cell_type": "markdown",
   "id": "68453c92",
   "metadata": {},
   "source": [
    "Answer : \n"
   ]
  },
  {
   "cell_type": "markdown",
   "id": "1a9c2189",
   "metadata": {},
   "source": [
    "The loop's 'else' executes only if the loop completes normally (no 'break'). Different from conditional 'else' which executes when conditions are false."
   ]
  },
  {
   "cell_type": "markdown",
   "id": "1666ff49",
   "metadata": {},
   "source": [
    "Coding Challenge:  Write a function that searches for a specific element in a list using a `for` loop. If the element is found, return its index; if not, return -1 using the `else` clause in the loop.\n"
   ]
  },
  {
   "cell_type": "code",
   "execution_count": 11,
   "id": "8e56945d",
   "metadata": {},
   "outputs": [
    {
     "name": "stdout",
     "output_type": "stream",
     "text": [
      "Element found at index: 2\n"
     ]
    }
   ],
   "source": [
    "def search_element(lst, target):\n",
    "    for index, element in enumerate(lst):\n",
    "        if element == target:\n",
    "            return index\n",
    "    else:\n",
    "        return -1  # This runs only if the loop wasn't broken\n",
    "\n",
    "# Example usage\n",
    "my_list = [10, 20, 30, 40, 50]\n",
    "target = 30\n",
    "\n",
    "result = search_element(my_list, target)\n",
    "print(\"Element found at index:\" if result != -1 else \"Element not found.\", result)"
   ]
  },
  {
   "cell_type": "markdown",
   "id": "e45ca6bc",
   "metadata": {},
   "source": [
    "6.  What is a common pitfall when using floating-point numbers in conditional statements? How can you avoid it? "
   ]
  },
  {
   "cell_type": "markdown",
   "id": "59d51698",
   "metadata": {},
   "source": [
    "Answer :\n"
   ]
  },
  {
   "cell_type": "markdown",
   "id": "787ab02e",
   "metadata": {},
   "source": [
    "Pitfall: Floating-point imprecision can cause unexpected comparison results.\n",
    "Solution: Use tolerance for equality checks."
   ]
  },
  {
   "cell_type": "markdown",
   "id": "72d6457a",
   "metadata": {},
   "source": [
    "Coding Challenge:  Write a Python function that compares two floating-point numbers and returns `True` if they are approximately equal, considering a small tolerance value."
   ]
  },
  {
   "cell_type": "code",
   "execution_count": 12,
   "id": "de2b505e",
   "metadata": {},
   "outputs": [
    {
     "name": "stdout",
     "output_type": "stream",
     "text": [
      "Approximately equal: True\n"
     ]
    }
   ],
   "source": [
    "def approximately_equal(a, b, tolerance=1e-9):\n",
    "    return abs(a - b) <= tolerance\n",
    "\n",
    "# Example usage\n",
    "x = 0.1 + 0.2\n",
    "y = 0.3\n",
    "\n",
    "result = approximately_equal(x, y)\n",
    "print(\"Approximately equal:\" if result else \"Not equal:\", result)\n"
   ]
  },
  {
   "cell_type": "markdown",
   "id": "8bbd7d4c",
   "metadata": {},
   "source": [
    "7. How can you combine `for` loops and `if` statements to filter and process data in Python? "
   ]
  },
  {
   "cell_type": "markdown",
   "id": "92f633dc",
   "metadata": {},
   "source": [
    "Answer :"
   ]
  },
  {
   "cell_type": "markdown",
   "id": "16a1ecc9",
   "metadata": {},
   "source": [
    "You can combine for loops and if statements in Python to filter and process data by iterating over elements and applying conditions to select or transform them."
   ]
  },
  {
   "cell_type": "code",
   "execution_count": null,
   "id": "018ff15c",
   "metadata": {},
   "outputs": [],
   "source": [
    "#basic structure\n",
    "for item in iterable:\n",
    "    if condition:\n",
    "        # process item"
   ]
  },
  {
   "cell_type": "markdown",
   "id": "1b0ffac4",
   "metadata": {},
   "source": [
    "Coding Challenge:  Given a list of integers, write a Python program that uses a `for` loop and `if` statements to create a new list containing only the even numbers."
   ]
  },
  {
   "cell_type": "code",
   "execution_count": 13,
   "id": "10669b3f",
   "metadata": {},
   "outputs": [
    {
     "name": "stdout",
     "output_type": "stream",
     "text": [
      "Even numbers: [4, 10, 16, 22]\n"
     ]
    }
   ],
   "source": [
    "# Original list of integers\n",
    "numbers = [1, 4, 7, 10, 13, 16, 19, 22]\n",
    "\n",
    "# New list to store even numbers\n",
    "even_numbers = []\n",
    "\n",
    "# Loop through the original list\n",
    "for num in numbers:\n",
    "    if num % 2 == 0:  # Check if the number is even\n",
    "        even_numbers.append(num)\n",
    "\n",
    "# Print the result\n",
    "print(\"Even numbers:\", even_numbers)\n"
   ]
  },
  {
   "cell_type": "markdown",
   "id": "521adbe5",
   "metadata": {},
   "source": [
    "8.  Discuss the concept of short-circuit evaluation in Python. How does it affect the performance of conditional statements? "
   ]
  },
  {
   "cell_type": "markdown",
   "id": "83ef9914",
   "metadata": {},
   "source": [
    "Answer :"
   ]
  },
  {
   "cell_type": "markdown",
   "id": "a98bc575",
   "metadata": {},
   "source": [
    "Concept of short-circuit evaluation: Python stops evaluating boolean expressions once the outcome is determined, improving performance."
   ]
  },
  {
   "cell_type": "markdown",
   "id": "5eb42fa0",
   "metadata": {},
   "source": [
    "Coding Challenge:  Write a function that takes three boolean values and returns `True` if at least two of them are `True`, using short-circuit evaluation."
   ]
  },
  {
   "cell_type": "code",
   "execution_count": 14,
   "id": "8ea49f1a",
   "metadata": {},
   "outputs": [],
   "source": [
    "def at_least_two_true(a, b, c):\n",
    "    return (a and b) or (a and c) or (b and c)\n"
   ]
  },
  {
   "cell_type": "markdown",
   "id": "b88ca792",
   "metadata": {},
   "source": [
    "9. Explain how the `continue` statement works in a loop. What are some scenarios where using `continue` is more beneficial than restructuring the loop? "
   ]
  },
  {
   "cell_type": "markdown",
   "id": "dd82c3a3",
   "metadata": {},
   "source": [
    "Answer : "
   ]
  },
  {
   "cell_type": "markdown",
   "id": "69bcff72",
   "metadata": {},
   "source": [
    "The continue statement in a loop skips the current iteration and jumps to the next one, without executing any code that follows it in the loop body.\n",
    "\n",
    "Using continue can make your code cleaner and more readable when you want to:\n",
    "Skip unnecessary processing\n",
    "Avoid deeply nested if-statements\n",
    "Handle special cases early"
   ]
  },
  {
   "cell_type": "markdown",
   "id": "abf9eace",
   "metadata": {},
   "source": [
    "   Coding Challenge:  Write a Python program that iterates through a list of numbers and prints only those numbers that are divisible by 3, using the `continue` statement."
   ]
  },
  {
   "cell_type": "code",
   "execution_count": 15,
   "id": "15690093",
   "metadata": {},
   "outputs": [
    {
     "name": "stdout",
     "output_type": "stream",
     "text": [
      "9\n",
      "12\n",
      "15\n",
      "30\n",
      "33\n"
     ]
    }
   ],
   "source": [
    "# List of numbers\n",
    "numbers = [4, 9, 12, 15, 22, 25, 30, 33, 41]\n",
    "\n",
    "# Loop through the list\n",
    "for num in numbers:\n",
    "    if num % 3 != 0:\n",
    "        continue  # Skip numbers not divisible by 3\n",
    "    print(num)\n"
   ]
  },
  {
   "cell_type": "markdown",
   "id": "551491fb",
   "metadata": {},
   "source": [
    "10.  How can you use list comprehensions in combination with conditional statements to make your code more concise? "
   ]
  },
  {
   "cell_type": "markdown",
   "id": "278963dc",
   "metadata": {},
   "source": [
    "Answer : "
   ]
  },
  {
   "cell_type": "markdown",
   "id": "922d6e60",
   "metadata": {},
   "source": [
    "List comprehensions provide a concise and readable way to create lists by combining loops and conditional logic in a single line.\n",
    "\n",
    "General Syntax :\n",
    "[expression for item in iterable if condition]\n"
   ]
  },
  {
   "cell_type": "markdown",
   "id": "8dc5560f",
   "metadata": {},
   "source": [
    " Coding Challenge:  Write a list comprehension that generates a list of squares of all even numbers between 1 and 20."
   ]
  },
  {
   "cell_type": "code",
   "execution_count": 16,
   "id": "9ea2d4c9",
   "metadata": {},
   "outputs": [
    {
     "name": "stdout",
     "output_type": "stream",
     "text": [
      "[4, 16, 36, 64, 100, 144, 196, 256, 324, 400]\n"
     ]
    }
   ],
   "source": [
    "squares = [x**2 for x in range(1, 21) if x % 2 == 0]\n",
    "print(squares)\n"
   ]
  },
  {
   "cell_type": "code",
   "execution_count": null,
   "id": "72e1551d",
   "metadata": {},
   "outputs": [],
   "source": []
  }
 ],
 "metadata": {
  "kernelspec": {
   "display_name": "Python 3",
   "language": "python",
   "name": "python3"
  },
  "language_info": {
   "codemirror_mode": {
    "name": "ipython",
    "version": 3
   },
   "file_extension": ".py",
   "mimetype": "text/x-python",
   "name": "python",
   "nbconvert_exporter": "python",
   "pygments_lexer": "ipython3",
   "version": "3.11.4"
  }
 },
 "nbformat": 4,
 "nbformat_minor": 5
}
