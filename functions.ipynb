{
 "cells": [
  {
   "cell_type": "code",
   "execution_count": null,
   "id": "0bd5393e",
   "metadata": {},
   "outputs": [],
   "source": [
    "##function \n",
    "##type of function\n"
   ]
  },
  {
   "cell_type": "code",
   "execution_count": null,
   "id": "0518d174",
   "metadata": {},
   "outputs": [
    {
     "name": "stdout",
     "output_type": "stream",
     "text": [
      "hello from the function\n"
     ]
    }
   ],
   "source": [
    "##user defined functions\n",
    "def hello():\n",
    "    #block of code\n",
    "    print(\"hello from the function\")\n",
    "\n",
    "hello()  #calling a function"
   ]
  },
  {
   "cell_type": "code",
   "execution_count": 3,
   "id": "91bf6da1",
   "metadata": {},
   "outputs": [
    {
     "name": "stdout",
     "output_type": "stream",
     "text": [
      "30\n"
     ]
    }
   ],
   "source": [
    "def add():\n",
    "    a = 10\n",
    "    b = 20\n",
    "    c = a+b\n",
    "    print(c)\n",
    "add()"
   ]
  },
  {
   "cell_type": "code",
   "execution_count": null,
   "id": "781a6c09",
   "metadata": {},
   "outputs": [
    {
     "name": "stdout",
     "output_type": "stream",
     "text": [
      "80\n"
     ]
    }
   ],
   "source": [
    "##parameter and argument\n",
    "#parameter --> passes the information during the creating of the function\n",
    "#argument --> passes the information during the calling the function\n",
    "\n",
    "def add(a,b):\n",
    "    print(a+b)\n",
    "add(50,30)"
   ]
  },
  {
   "cell_type": "code",
   "execution_count": 10,
   "id": "e191e196",
   "metadata": {},
   "outputs": [
    {
     "name": "stdout",
     "output_type": "stream",
     "text": [
      "the youngest child is rohan\n"
     ]
    }
   ],
   "source": [
    "#arbitary arguments ---- args --\"*\"\n",
    "#arbitrary arguments allow a function to accept a variable number of arguments. These are useful when you don't know beforehand how many inputs a function will receive\n",
    "\n",
    "def child(child1,child2,child3):\n",
    "    print(\"the youngest child is \" + child3)\n",
    "child(child1=\"sohan\",child2=\"mohan\",child3=\"rohan\")"
   ]
  },
  {
   "cell_type": "code",
   "execution_count": 13,
   "id": "d3306e27",
   "metadata": {},
   "outputs": [
    {
     "name": "stdout",
     "output_type": "stream",
     "text": [
      "the youngest child is sohan\n"
     ]
    }
   ],
   "source": [
    "#arbitary keyword arguments --- **keargs\n",
    "def child(**kids):\n",
    "    print(\"the youngest child is \" + kids[\"child1\"])\n",
    "child(child1=\"sohan\",child2=\"mohan\",child3=\"rohan\")"
   ]
  },
  {
   "cell_type": "code",
   "execution_count": 15,
   "id": "e07518ee",
   "metadata": {},
   "outputs": [
    {
     "name": "stdout",
     "output_type": "stream",
     "text": [
      "my hobby is cricket\n",
      "my hobby is coding\n"
     ]
    }
   ],
   "source": [
    "##default parameter value\n",
    "def hobby(name=\"coding\"):\n",
    "    print(\"my hobby is \" + name)\n",
    "hobby(\"cricket\")\n",
    "hobby()"
   ]
  },
  {
   "cell_type": "code",
   "execution_count": null,
   "id": "674769f2",
   "metadata": {},
   "outputs": [
    {
     "name": "stdout",
     "output_type": "stream",
     "text": [
      "rohan\n",
      "mohan\n",
      "sohan\n"
     ]
    }
   ],
   "source": [
    "##list function\n",
    "def lst(name):\n",
    "    for i in name:\n",
    "        print(i)\n",
    "\n",
    "lst([\"rohan\",\"mohan\",\"sohan\"])"
   ]
  },
  {
   "cell_type": "code",
   "execution_count": 18,
   "id": "253968a9",
   "metadata": {},
   "outputs": [
    {
     "name": "stdout",
     "output_type": "stream",
     "text": [
      "8.0\n"
     ]
    }
   ],
   "source": [
    "##average function\n",
    "def avg(a,b):\n",
    "    print((a+b)/2)\n",
    "avg(8,8)"
   ]
  },
  {
   "cell_type": "code",
   "execution_count": 22,
   "id": "ff523c13",
   "metadata": {},
   "outputs": [
    {
     "name": "stdout",
     "output_type": "stream",
     "text": [
      "4.0\n"
     ]
    }
   ],
   "source": [
    "#average \n",
    "def avg(name):\n",
    "    print(sum(name)/len(name))\n",
    "avg([4,3,2,4,7])"
   ]
  },
  {
   "cell_type": "code",
   "execution_count": null,
   "id": "5f06a033",
   "metadata": {},
   "outputs": [],
   "source": []
  }
 ],
 "metadata": {
  "kernelspec": {
   "display_name": "Python 3",
   "language": "python",
   "name": "python3"
  },
  "language_info": {
   "codemirror_mode": {
    "name": "ipython",
    "version": 3
   },
   "file_extension": ".py",
   "mimetype": "text/x-python",
   "name": "python",
   "nbconvert_exporter": "python",
   "pygments_lexer": "ipython3",
   "version": "3.11.4"
  }
 },
 "nbformat": 4,
 "nbformat_minor": 5
}
