{
 "cells": [
  {
   "cell_type": "code",
   "execution_count": null,
   "id": "0bd5393e",
   "metadata": {},
   "outputs": [],
   "source": [
    "##function \n",
    "##type of function\n"
   ]
  },
  {
   "cell_type": "code",
   "execution_count": null,
   "id": "0518d174",
   "metadata": {},
   "outputs": [
    {
     "name": "stdout",
     "output_type": "stream",
     "text": [
      "hello from the function\n"
     ]
    }
   ],
   "source": [
    "##user defined functions\n",
    "def hello():\n",
    "    #block of code\n",
    "    print(\"hello from the function\")\n",
    "\n",
    "hello()  #calling a function"
   ]
  },
  {
   "cell_type": "code",
   "execution_count": 3,
   "id": "91bf6da1",
   "metadata": {},
   "outputs": [
    {
     "name": "stdout",
     "output_type": "stream",
     "text": [
      "30\n"
     ]
    }
   ],
   "source": [
    "def add():\n",
    "    a = 10\n",
    "    b = 20\n",
    "    c = a+b\n",
    "    print(c)\n",
    "add()"
   ]
  },
  {
   "cell_type": "code",
   "execution_count": null,
   "id": "781a6c09",
   "metadata": {},
   "outputs": [
    {
     "name": "stdout",
     "output_type": "stream",
     "text": [
      "80\n"
     ]
    }
   ],
   "source": [
    "##parameter and argument\n",
    "#parameter --> passes the information during the creating of the function\n",
    "#argument --> passes the information during the calling the function\n",
    "\n",
    "def add(a,b):\n",
    "    print(a+b)\n",
    "add(50,30)"
   ]
  },
  {
   "cell_type": "code",
   "execution_count": 10,
   "id": "e191e196",
   "metadata": {},
   "outputs": [
    {
     "name": "stdout",
     "output_type": "stream",
     "text": [
      "the youngest child is rohan\n"
     ]
    }
   ],
   "source": [
    "#arbitary arguments ---- args --\"*\"\n",
    "#arbitrary arguments allow a function to accept a variable number of arguments. These are useful when you don't know beforehand how many inputs a function will receive\n",
    "\n",
    "def child(child1,child2,child3):\n",
    "    print(\"the youngest child is \" + child3)\n",
    "child(child1=\"sohan\",child2=\"mohan\",child3=\"rohan\")"
   ]
  },
  {
   "cell_type": "code",
   "execution_count": 13,
   "id": "d3306e27",
   "metadata": {},
   "outputs": [
    {
     "name": "stdout",
     "output_type": "stream",
     "text": [
      "the youngest child is sohan\n"
     ]
    }
   ],
   "source": [
    "#arbitary keyword arguments --- **keargs\n",
    "def child(**kids):\n",
    "    print(\"the youngest child is \" + kids[\"child1\"])\n",
    "child(child1=\"sohan\",child2=\"mohan\",child3=\"rohan\")"
   ]
  },
  {
   "cell_type": "code",
   "execution_count": 15,
   "id": "e07518ee",
   "metadata": {},
   "outputs": [
    {
     "name": "stdout",
     "output_type": "stream",
     "text": [
      "my hobby is cricket\n",
      "my hobby is coding\n"
     ]
    }
   ],
   "source": [
    "##default parameter value\n",
    "def hobby(name=\"coding\"):\n",
    "    print(\"my hobby is \" + name)\n",
    "hobby(\"cricket\")\n",
    "hobby()"
   ]
  },
  {
   "cell_type": "code",
   "execution_count": null,
   "id": "674769f2",
   "metadata": {},
   "outputs": [
    {
     "name": "stdout",
     "output_type": "stream",
     "text": [
      "rohan\n",
      "mohan\n",
      "sohan\n"
     ]
    }
   ],
   "source": [
    "##list function\n",
    "def lst(name):\n",
    "    for i in name:\n",
    "        print(i)\n",
    "\n",
    "lst([\"rohan\",\"mohan\",\"sohan\"])"
   ]
  },
  {
   "cell_type": "code",
   "execution_count": 18,
   "id": "253968a9",
   "metadata": {},
   "outputs": [
    {
     "name": "stdout",
     "output_type": "stream",
     "text": [
      "8.0\n"
     ]
    }
   ],
   "source": [
    "##average function\n",
    "def avg(a,b):\n",
    "    print((a+b)/2)\n",
    "avg(8,8)"
   ]
  },
  {
   "cell_type": "code",
   "execution_count": 22,
   "id": "ff523c13",
   "metadata": {},
   "outputs": [
    {
     "name": "stdout",
     "output_type": "stream",
     "text": [
      "4.0\n"
     ]
    }
   ],
   "source": [
    "#average \n",
    "def avg(name):\n",
    "    print(sum(name)/len(name))\n",
    "avg([4,3,2,4,7])"
   ]
  },
  {
   "cell_type": "code",
   "execution_count": 1,
   "id": "5f06a033",
   "metadata": {},
   "outputs": [],
   "source": [
    "##lamda function --- small anonymous function\n",
    "##lamda function  :  expression"
   ]
  },
  {
   "cell_type": "code",
   "execution_count": 3,
   "id": "e775805b",
   "metadata": {},
   "outputs": [
    {
     "data": {
      "text/plain": [
       "105"
      ]
     },
     "execution_count": 3,
     "metadata": {},
     "output_type": "execute_result"
    }
   ],
   "source": [
    "x = lambda a,b : a+b\n",
    "x(5,100)"
   ]
  },
  {
   "cell_type": "code",
   "execution_count": 6,
   "id": "57e6a656",
   "metadata": {},
   "outputs": [
    {
     "name": "stdout",
     "output_type": "stream",
     "text": [
      "[1, 4, 9, 16, 25]\n"
     ]
    }
   ],
   "source": [
    "#map\n",
    "def sq(num):\n",
    "    return num*num\n",
    "\n",
    "lst = [1,2,3,4,5]\n",
    "result = map(sq,lst)\n",
    "print(list(result))"
   ]
  },
  {
   "cell_type": "code",
   "execution_count": 1,
   "id": "229f4b26",
   "metadata": {},
   "outputs": [
    {
     "name": "stdout",
     "output_type": "stream",
     "text": [
      "[2, 4]\n"
     ]
    }
   ],
   "source": [
    "#filter function --- filter(function.iteration)\n",
    "lst = [1,2,3,4,5]\n",
    "result = filter(lambda num : num%2==0,lst)\n",
    "print(list(result))\n"
   ]
  },
  {
   "cell_type": "code",
   "execution_count": null,
   "id": "aa08c6a7",
   "metadata": {},
   "outputs": [
    {
     "name": "stdout",
     "output_type": "stream",
     "text": [
      "15\n"
     ]
    }
   ],
   "source": [
    "##reduce \n",
    "from functools import reduce\n",
    "\n",
    "lst = [1,2,3,4,5]                                              ##from left to right\n",
    "result = reduce(lambda num1,num2 : num1+num2,lst)              #[3,3,4,5] --- [6,4,5] --- [10,5] --- [15]\n",
    "print(result)\n"
   ]
  },
  {
   "cell_type": "code",
   "execution_count": 6,
   "id": "00607b75",
   "metadata": {},
   "outputs": [
    {
     "name": "stdout",
     "output_type": "stream",
     "text": [
      "[(5, 'mohan'), (6, 'sohan'), (7, 'rohan')]\n"
     ]
    }
   ],
   "source": [
    "##enumerate ---- add index numberr to everry element\n",
    "lst = [\"mohan\",\"sohan\",\"rohan\"]\n",
    "result = enumerate(lst,start=5)\n",
    "print(list(result))"
   ]
  },
  {
   "cell_type": "code",
   "execution_count": 7,
   "id": "98f39c35",
   "metadata": {},
   "outputs": [
    {
     "name": "stdout",
     "output_type": "stream",
     "text": [
      "[('mohak', 1), ('sohan', 2), ('ram', 3)]\n"
     ]
    }
   ],
   "source": [
    "##zip function -- it is used to combine to or more iterable\n",
    "lst1 = [\"mohak\",\"sohan\",\"ram\"]\n",
    "lst2 = [1,2,3]\n",
    "result = zip(lst1,lst2)\n",
    "print(list(result))"
   ]
  },
  {
   "cell_type": "code",
   "execution_count": 9,
   "id": "a0738513",
   "metadata": {},
   "outputs": [
    {
     "name": "stdout",
     "output_type": "stream",
     "text": [
      "['mohak', 'sohan', 'ram']\n",
      "[1, 2, 3]\n"
     ]
    }
   ],
   "source": [
    "##unzip\n",
    "zipped = [('mohak', 1), ('sohan', 2), ('ram', 3)]\n",
    "result, number = zip(*zipped)\n",
    "print(list(result))\n",
    "print(list(number))\n"
   ]
  },
  {
   "cell_type": "code",
   "execution_count": null,
   "id": "b51c4541",
   "metadata": {},
   "outputs": [],
   "source": []
  }
 ],
 "metadata": {
  "kernelspec": {
   "display_name": "Python 3",
   "language": "python",
   "name": "python3"
  },
  "language_info": {
   "codemirror_mode": {
    "name": "ipython",
    "version": 3
   },
   "file_extension": ".py",
   "mimetype": "text/x-python",
   "name": "python",
   "nbconvert_exporter": "python",
   "pygments_lexer": "ipython3",
   "version": "3.11.4"
  }
 },
 "nbformat": 4,
 "nbformat_minor": 5
}
