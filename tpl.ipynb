{
 "cells": [
  {
   "cell_type": "code",
   "execution_count": null,
   "id": "4df7bfc0",
   "metadata": {},
   "outputs": [],
   "source": [
    "##tpls = ordered, immutable, allows duplications\n",
    "##tpl = ()"
   ]
  },
  {
   "cell_type": "code",
   "execution_count": 2,
   "id": "18407141",
   "metadata": {},
   "outputs": [
    {
     "name": "stdout",
     "output_type": "stream",
     "text": [
      "('red', 'blue', 'green', 'black', 1, 2, 3)\n",
      "<class 'tuple'>\n"
     ]
    }
   ],
   "source": [
    "tpl = (\"red\",\"blue\",\"green\",\"black\",1,2,3)\n",
    "print(tpl)\n",
    "print(type(tpl))"
   ]
  },
  {
   "cell_type": "code",
   "execution_count": 7,
   "id": "8d0e9c13",
   "metadata": {},
   "outputs": [
    {
     "data": {
      "text/plain": [
       "3"
      ]
     },
     "execution_count": 7,
     "metadata": {},
     "output_type": "execute_result"
    }
   ],
   "source": [
    "# tpl.count(\"red\")\n",
    "tpl.index(\"black\")"
   ]
  },
  {
   "cell_type": "code",
   "execution_count": 8,
   "id": "fc43ac11",
   "metadata": {},
   "outputs": [
    {
     "data": {
      "text/plain": [
       "('red', 'blue', 'green', 'black', 1, 2, 3, 20)"
      ]
     },
     "execution_count": 8,
     "metadata": {},
     "output_type": "execute_result"
    }
   ],
   "source": [
    "tpl=list(tpl)\n",
    "tpl.append(20)\n",
    "tpl=tuple(tpl)\n",
    "tpl"
   ]
  },
  {
   "cell_type": "code",
   "execution_count": null,
   "id": "1286d268",
   "metadata": {},
   "outputs": [],
   "source": []
  }
 ],
 "metadata": {
  "kernelspec": {
   "display_name": "Python 3",
   "language": "python",
   "name": "python3"
  },
  "language_info": {
   "codemirror_mode": {
    "name": "ipython",
    "version": 3
   },
   "file_extension": ".py",
   "mimetype": "text/x-python",
   "name": "python",
   "nbconvert_exporter": "python",
   "pygments_lexer": "ipython3",
   "version": "3.11.4"
  }
 },
 "nbformat": 4,
 "nbformat_minor": 5
}
